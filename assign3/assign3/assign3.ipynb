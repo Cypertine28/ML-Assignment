{
 "cells": [
  {
   "cell_type": "markdown",
   "id": "81383fc0",
   "metadata": {},
   "source": [
    "Name:- Akash panzade \n",
    "   \n",
    "Roll no. :- 21111006"
   ]
  },
  {
   "cell_type": "markdown",
   "id": "e72931d4",
   "metadata": {},
   "source": [
    "### Importing python Libraries"
   ]
  },
  {
   "cell_type": "code",
   "execution_count": 392,
   "id": "86ecd0d2",
   "metadata": {},
   "outputs": [],
   "source": [
    "import numpy as np\n",
    "import pandas as pd\n",
    "import matplotlib.pyplot as pyplot"
   ]
  },
  {
   "cell_type": "markdown",
   "id": "97d7a3fc",
   "metadata": {},
   "source": [
    "# Q. 1"
   ]
  },
  {
   "cell_type": "code",
   "execution_count": 393,
   "id": "fbaaac52",
   "metadata": {},
   "outputs": [],
   "source": [
    "csv_file=\"data_banknote_authentication.txt\" #accessing dataset\n",
    "data=pd.read_csv(csv_file,names=[\"varience\",\"skewness\",\"curtosis\",\"entropy\",\"class\"]) #read file using pandas and use column names"
   ]
  },
  {
   "cell_type": "code",
   "execution_count": 394,
   "id": "57dd47ef",
   "metadata": {},
   "outputs": [
    {
     "name": "stdout",
     "output_type": "stream",
     "text": [
      "[0 1]\n",
      "0    762\n",
      "1    610\n",
      "Name: class, dtype: int64\n"
     ]
    }
   ],
   "source": [
    "print(data[\"class\"].unique()) #checking no. of different outputs\n",
    "print(data[\"class\"].astype(\"category\").value_counts())"
   ]
  },
  {
   "cell_type": "code",
   "execution_count": 395,
   "id": "57b6f36e",
   "metadata": {},
   "outputs": [
    {
     "data": {
      "text/plain": [
       "varience    float64\n",
       "skewness    float64\n",
       "curtosis    float64\n",
       "entropy     float64\n",
       "class         int64\n",
       "dtype: object"
      ]
     },
     "execution_count": 395,
     "metadata": {},
     "output_type": "execute_result"
    }
   ],
   "source": [
    "data.dtypes #checking types of columns"
   ]
  },
  {
   "cell_type": "code",
   "execution_count": 396,
   "id": "894fdf2e",
   "metadata": {},
   "outputs": [
    {
     "data": {
      "text/plain": [
       "(1372, 5)"
      ]
     },
     "execution_count": 396,
     "metadata": {},
     "output_type": "execute_result"
    }
   ],
   "source": [
    "data.shape"
   ]
  },
  {
   "cell_type": "markdown",
   "id": "c3706c8a",
   "metadata": {},
   "source": [
    "### a) perceptron algorithm"
   ]
  },
  {
   "cell_type": "markdown",
   "id": "fcf5fdc2",
   "metadata": {},
   "source": [
    "<center>Perceptron Loss function L</center>\n",
    "$$ L(w) =  \\sum_{n=1}^N \\max{(0,-y_nw^Tx_n)} $$\n",
    "\n",
    "<br>\n",
    "<center> subgradient w.r.t to w </center>\n",
    "\n",
    "\\begin{align*}\n",
    " g_n &= 0       \\text{   ;   } y_nw^Tx_n\\geq 0 \\\\\n",
    "      &=-y_nx_n \\text{   ;   } y_nw^Tx_n < 0\n",
    "\\end{align*}\n",
    "<br>\n",
    "$$ \\text{If current w makes mistake on  } (x_n,y_n) \\text{  i.e. }  y_nw^Tx_n <0 \n",
    "$$ <br>\n",
    "$$ \\text{ then , }   w^{(t+1)} = w^t + y_nx_n$$\n",
    "<br>\n"
   ]
  },
  {
   "cell_type": "code",
   "execution_count": 397,
   "id": "e58fa620",
   "metadata": {},
   "outputs": [],
   "source": [
    "def perceptron(x,y,lr):\n",
    "    # x --> Inputs.\n",
    "    # y --> labels/target.\n",
    "    # lr -> learn rate set to 1 as in the slides.\n",
    "    w=np.array([[0.1,0.1,0.1,0.1]]) # Initializing  weight vector\n",
    "    i=0  # used i to maintain count\n",
    "    while(True):\n",
    "        ind=np.random.randint(len(x)-1,size=1) #selecting random index from dats\n",
    "        xtemp=x[ind] #input value corresponding to ind\n",
    "        ytemp=y[ind] #output value corresponding to ind\n",
    "        if ytemp*np.dot(xtemp,w.T)<0: #check the mistake condition\n",
    "            w=w+lr*xtemp*ytemp # updating the weight vector w when it makes mistake on current example\n",
    "            i=0\n",
    "        if i==100: #converge if no mistakes in consicutive 100 iteration then break\n",
    "            break\n",
    "        i+=1\n",
    "    return w #returning w after training\n"
   ]
  },
  {
   "cell_type": "markdown",
   "id": "f17ca48f",
   "metadata": {},
   "source": [
    "### b) functions to make predictions"
   ]
  },
  {
   "cell_type": "code",
   "execution_count": 398,
   "id": "d97d3553",
   "metadata": {},
   "outputs": [
    {
     "name": "stdout",
     "output_type": "stream",
     "text": [
      "varience    0\n",
      "skewness    0\n",
      "curtosis    0\n",
      "entropy     0\n",
      "class       0\n",
      "dtype: int64\n",
      "24\n"
     ]
    }
   ],
   "source": [
    "#preprocessing\n",
    "print(data.isnull().sum()) #checking is there any null values in any columns\n",
    "print(data.duplicated().sum()) #checking duplicate \n",
    "data.drop_duplicates(subset=None, keep='first', inplace=True) #removing duplicate \n",
    "# there is no missing values in dataset"
   ]
  },
  {
   "cell_type": "code",
   "execution_count": 399,
   "id": "b08a5f44",
   "metadata": {},
   "outputs": [],
   "source": [
    "np_data=data.values #converting dataframe into numpy array\n",
    "for i in range(len(np_data)): #changing output label o to -1\n",
    "    if np_data[i][4]==0:\n",
    "        np_data[i][4]=-1\n",
    "np.random.shuffle(np_data) #shuffle data"
   ]
  },
  {
   "cell_type": "code",
   "execution_count": 400,
   "id": "94cf0af5",
   "metadata": {},
   "outputs": [],
   "source": [
    "## predict output on the given input based on w\n",
    "def predict(x,w):\n",
    "     # if <x,w> if greater than or equal to 0 -> 1, otherwise -> -1\n",
    "    if np.dot(x,w.T)>=0:\n",
    "        return 1 \n",
    "    else:\n",
    "        return -1\n",
    "# '-1' for forged  AND  '1' for authentic"
   ]
  },
  {
   "cell_type": "markdown",
   "id": "73aa37f3",
   "metadata": {},
   "source": [
    "### c) training algorithm on dataset using cross-validation"
   ]
  },
  {
   "cell_type": "code",
   "execution_count": 401,
   "id": "af718440",
   "metadata": {},
   "outputs": [
    {
     "name": "stdout",
     "output_type": "stream",
     "text": [
      "Minimum Error % on validation set by k-fold CV   2.4752475247524752\n"
     ]
    }
   ],
   "source": [
    "split=int(0.75*np_data.shape[0]) # splitting 75% dataset into train and 25% of held out test set\n",
    "train=np_data[:split]  #train set (it again divided into validation set and train_set)\n",
    "test=np_data[split:]  #held out TEST set\n",
    "fold_indices = np.arange(train.shape[0]) # generating indices \n",
    "\n",
    "np.random.shuffle(fold_indices) #randomly shuffle the indices\n",
    "w1=[] #best weight vector (i.e. for best model)\n",
    "validation_set=[] # validation set for which error is minimum\n",
    "pval=float(\"inf\") #initializing min. error value to \"inf\"\n",
    "\n",
    "#Split the indices into k-parts ,used 5-fold cross valiation\n",
    "eval_indices = np.array_split(fold_indices, 5)\n",
    "\n",
    "for e in eval_indices: #iterating over all 5-folds\n",
    "    eval_set_x = train[e]  #Define the validation set for the current fold\n",
    "    mask_eval = np.ones(train.shape[0], bool) \n",
    "    mask_eval[e] = False # setting false value for current validation set indices only\n",
    "    train_set_x = train[mask_eval]  #use other values for training a model\n",
    "    w=perceptron(train_set_x[:,:4],train_set_x[:,4],1) #training a model for  current train_set\n",
    "    ytest=eval_set_x[:,4] # input values in current validation set\n",
    "    xtest=eval_set_x[:,:4]  # input values in current validation set\n",
    "    ypred=[] \n",
    "    for i in range(len(ytest)):\n",
    "        ypred.append(predict(xtest[i],w)) # predicting value for current input and weight vector\n",
    "    val=0\n",
    "    for i in range(len(ypred)):\n",
    "        if ypred[i]==ytest[i]: # checking predicated output matches with actual output \n",
    "            val+=1\n",
    "    val=(len(ypred)-val)/len(ypred)*100 # calculating % of error for current val.set\n",
    "#     print(\"test error for \",p,\" fold\",val)\n",
    "    if val<pval: #selecting best weight vector for which val. set error is minimum\n",
    "        w1=w  #updating best weight vector\n",
    "        pval=val #storing minimum val.set error for w\n",
    "        validation_set=eval_set_x #storing held out validation set for which model performed well\n",
    "\n",
    "print(\"Minimum Error % on validation set by k-fold CV  \",pval)\n",
    "# print(validation_set)"
   ]
  },
  {
   "cell_type": "markdown",
   "id": "872ca13c",
   "metadata": {},
   "source": [
    "In above code dataset divided into two parts i.e in train and test set . further train dataset divided into validation set and train_set(to train algorithm). In above 5-fold cross validation used and in each loop train dataset divided into 5 parts ,from one of this used as validation set and other used as train_set. In each iteration model is train using train_set which gives w that help to performed prediction on current loop validation set model(i.e w) for which validation set error is minimum is used as best model and also stored validation set for that(i.e. validation_set)."
   ]
  },
  {
   "cell_type": "code",
   "execution_count": 402,
   "id": "32ee03e3",
   "metadata": {},
   "outputs": [
    {
     "name": "stdout",
     "output_type": "stream",
     "text": [
      "cross-validated test set error is  4.747774480712167\n"
     ]
    }
   ],
   "source": [
    "## cross validated test set error in % on held out test set.\n",
    "ytest=test[:,4]\n",
    "xtest=test[:,:4]\n",
    "ypred=[]\n",
    "for i in range(len(ytest)):\n",
    "    ypred.append(predict(xtest[i],w)) # predicting output for test set inputs\n",
    "val=0\n",
    "for i in range(len(ypred)):\n",
    "    if ypred[i]==ytest[i]: # checking predicated output matches with actual output \n",
    "        val+=1\n",
    "print(\"cross-validated test set error is \",((len(ypred)-val)/len(ypred))*100)\n"
   ]
  },
  {
   "cell_type": "markdown",
   "id": "7784fa91",
   "metadata": {},
   "source": [
    "### d)  Ensure you use a held out validation set and report F1 score on the held out set for your best model."
   ]
  },
  {
   "cell_type": "code",
   "execution_count": 403,
   "id": "9733ef5d",
   "metadata": {},
   "outputs": [
    {
     "name": "stdout",
     "output_type": "stream",
     "text": [
      "F1 score on the held out validation set for best model 0.9659090909090909\n"
     ]
    }
   ],
   "source": [
    "def f1score(validation_set):\n",
    "    ytest=validation_set[:,4:] #input value on validation set\n",
    "    xtest=validation_set[:,:4] #output value on validation set\n",
    "    ypred=[]\n",
    "    for i in range(len(ytest)):\n",
    "        ypred.append(predict(xtest[i],w)) #prediction for  current validation set input using best weight vector\n",
    "    tp,tn,fp,fn=0,0,0,0\n",
    "    for i in range(len(ypred)):\n",
    "        if ypred[i]==-1 and ytest[i]==-1:\n",
    "            tn+=1\n",
    "        if ypred[i]==1 and ytest[i]==1:\n",
    "            tp+=1\n",
    "        if ypred[i]==-1 and ytest[i]==1:\n",
    "            fn+=1\n",
    "        if ypred[i]==1 and ytest[i]==-1:\n",
    "            fp+=1\n",
    "            \n",
    "    precision = tp / (tp + fp)\n",
    "    recall = tp / (tp + fn)\n",
    "    f1_score = 2 * precision * recall / (precision + recall)\n",
    "    return f1_score\n",
    "print(\"F1 score on the held out validation set for best model\",f1score(validation_set)) #use the held out validation set which found in part c."
   ]
  },
  {
   "cell_type": "code",
   "execution_count": 404,
   "id": "13e95118",
   "metadata": {},
   "outputs": [
    {
     "name": "stdout",
     "output_type": "stream",
     "text": [
      "F1 score on the held out test set for best model 0.937007874015748\n"
     ]
    }
   ],
   "source": [
    "#F1 score for held out test set.\n",
    "print(\"F1 score on the held out test set for best model\",f1score(test)) #use the held out validation set which found in part c."
   ]
  },
  {
   "cell_type": "code",
   "execution_count": null,
   "id": "3686668b",
   "metadata": {},
   "outputs": [],
   "source": []
  },
  {
   "cell_type": "markdown",
   "id": "d61d6f7f",
   "metadata": {},
   "source": [
    "## Q . 2"
   ]
  },
  {
   "cell_type": "markdown",
   "id": "ad592f2e",
   "metadata": {},
   "source": [
    "#### a)"
   ]
  },
  {
   "cell_type": "code",
   "execution_count": 410,
   "id": "a759170d",
   "metadata": {},
   "outputs": [
    {
     "name": "stdout",
     "output_type": "stream",
     "text": [
      "Likelihood value from data , 1.831909946403607e-67\n"
     ]
    },
    {
     "data": {
      "text/plain": [
       "Text(0.5, 1.0, 'Distributions')"
      ]
     },
     "execution_count": 410,
     "metadata": {},
     "output_type": "execute_result"
    },
    {
     "data": {
      "image/png": "[encoded data removed]",
      "text/plain": [
       "<Figure size 432x288 with 1 Axes>"
      ]
     },
     "metadata": {
      "needs_background": "light"
     },
     "output_type": "display_data"
    }
   ],
   "source": [
    "def Bayesian_posterior(prior_mean,prior_std,data_mean,data_std,n): #function return posterior mean and stadard deviation tha used tofind probability\n",
    "    post_std=np.sqrt(1/(1/prior_std**2+n/data_std**2))\n",
    "    post_mean=(post_std**2)*(prior_mean/prior_std**2+n*data_mean/data_std**2)\n",
    "    return post_std,post_mean\n",
    "# above function Bayesian_posterior helps to find Bayesian Posterior Probability for given data samples and Prior\n",
    "\n",
    "prior_mean=25\n",
    "prior_std=5\n",
    "data_mean,data_std=10,5\n",
    "n=50\n",
    "data=np.random.normal(data_mean,data_std,n) #generating random sample from normal distribution with mean=10 and standard deviation =5\n",
    "post_std,post_mean=Bayesian_posterior(prior_mean,prior_std,data_mean,data_std,n)\n",
    "#for likelihood\n",
    "mean=data.mean()\n",
    "sd=data.std()/np.sqrt(50)\n",
    "data=sorted(data)\n",
    "a = ((data - mean) ** 2) / (2 * (sd ** 2))\n",
    "y = 1 / (sd * np.sqrt(2 * np.pi)) * np.exp(-a)\n",
    "pyplot.plot(data, y)\n",
    "\n",
    "# for prior\n",
    "x = np.linspace(prior_mean-3*prior_std, prior_mean+3*prior_std, 100)\n",
    "a = ((x - prior_mean) ** 2) / (2 * (prior_std ** 2))\n",
    "y = 1 / (prior_std * np.sqrt(2 * np.pi)) * np.exp(-a)\n",
    "pyplot.plot(x, y) #ploting pdf for prior\n",
    "\n",
    "#for posterior\n",
    "x = np.linspace(post_mean-3*post_std-10, post_mean+3*post_std+30, 100)\n",
    "a = ((x - post_mean) ** 2) / (2 * (post_std ** 2))\n",
    "y = 1 / (post_std * np.sqrt(2 * np.pi)) * np.exp(-a)\n",
    "pyplot.plot(x, y) #ploting pdf for posterior\n",
    "pyplot.legend([\"likelihood\",\"Prior\",\"Posterior\"])\n",
    "\n",
    "#likelihood value from data\n",
    "n=50\n",
    "data=np.random.normal(10,5,n)\n",
    "mean=10\n",
    "sd=5\n",
    "a = np.sum((data - mean) ** 2) / (2 * sd ** 2)\n",
    "y = 1 / (np.power(2 * np.pi*sd**2,n/2)) * np.exp(-a)\n",
    "print(\"Likelihood value from data ,\",y)\n",
    "pyplot.xlabel(\"parameter x\")\n",
    "pyplot.ylabel(\"Probability density\")\n",
    "pyplot.title(\"Distributions\")"
   ]
  },
  {
   "cell_type": "markdown",
   "id": "2e4306e9",
   "metadata": {},
   "source": [
    "Let data $ D = y_1,y_2,.....y_n $ where n=50 ,these sample are generated from Normal distribution with $ \\mu=10 $ and $ \\sigma =5 . $\n",
    "<br>\n",
    "$$y_i \\backsim N(\\mu,\\sigma^2), i=1,2,3,...,n $$\n",
    "<br>\n",
    "The likelihood for data  \n",
    "$$p(D|\\mu,\\sigma^2)=p(y_1,y_2,...,y_n|\\mu,\\sigma^2)= \\prod_{i=1}^n (2\\pi\\sigma^2)^{-1/2}e^{\\frac{-1}{2}(y_i-\\mu)^2/\\sigma^2}$$\n",
    "<br>\n",
    "Mean ($\\bar{y}$) and variance($s^2$) (i.e for data generate) \n",
    "$$\\bar{y}=\\frac{1}{n}\\sum_{i=1}^ny_i $$\n",
    "$$s^2 =\\frac{1}{n}\\sum_{i=1}^n(y_i-\\bar{y})^2$$\n",
    "<br>\n",
    "From above expression ,$$ p(D|\\mu,\\sigma^2)=(2\\pi\\sigma^2)^{-n/2}e^{\\frac{-1}{2\\sigma^2}\\sum_{i=1}^n(y_i-\\mu)^2}$$\n",
    "<br> by solving above $$p(D|\\mu,\\sigma^2)\\propto e^{\\frac{-n}{2 \\sigma^2}(\\bar{y}-\\mu)^2}$$\n",
    "\n",
    "<br>\n",
    "For ploting pdf for likelihood of data used values $y_1,y_2,...,y_n$ mean $\\bar{y}$ and variance $ s^2$.\n",
    "<br>\n",
    "\n",
    "Now to construct posterior distribution $p(\\mu|y)$<br>\n",
    "<br>\n",
    "Prior with mean $\\mu_0=25 $ and $\\sigma_0^2=5 $\n",
    "\n",
    "$$p(\\mu) = (2\\pi\\sigma_0^2)^{-1/2}e^{\\frac{-1}{2}(\\mu-\\mu_0)^2/\\sigma_0^2}....$$\n",
    "<br> for likelihood \n",
    "$$p(y_i|\\mu,\\sigma^2) = (2\\pi\\sigma^2)^{-1/2}e^{\\frac{-1}{2}(y_i-\\mu)^2/\\sigma^2}$$ \n",
    "and hence for Posterior <br>\n",
    "\n",
    "$$p(\\mu|y)=p(\\mu) * p(y|\\mu,\\sigma^2)$$\n",
    "$$             =(2\\pi\\sigma_0^2)^{-1/2}e^{\\frac{-1}{2}(\\mu-\\mu_0)^2/\\sigma_0^2}\\times \\prod_{i=1}^N (2\\pi\\sigma^2)^{-1/2}e^{\\frac{-1}{2}(y_i-\\mu)^2/\\sigma^2} $$<br>\n",
    "$$\\propto e^{(\\frac{-1}{2}\\mu^2(1/\\sigma_0^2+n/\\sigma^2)+\\mu(\\mu_0/\\sigma_0^2+\\sum_{i} x_i/\\sigma^2)}$$<br>\n",
    "Hence from above equations mean $\\mu_n $ and standard deviation $\\sigma_n $ of Posterior distribution \n",
    "$$\\sigma_n^2 = \\frac{1}{(\\sigma_0^2+n/\\sigma^2)}$$  and  $$\\mu_n = \\sigma_n(\\mu_0/\\sigma_0^2+\\sum_{i} y_i/\\sigma^2)$$<br>\n"
   ]
  },
  {
   "cell_type": "markdown",
   "id": "6ecdf1a0",
   "metadata": {},
   "source": [
    "#### b)"
   ]
  },
  {
   "cell_type": "code",
   "execution_count": 409,
   "id": "9939a2e5",
   "metadata": {},
   "outputs": [
    {
     "data": {
      "text/plain": [
       "<matplotlib.legend.Legend at 0x7fd539da74c0>"
      ]
     },
     "execution_count": 409,
     "metadata": {},
     "output_type": "execute_result"
    },
    {
     "data": {
      "image/png": "[encoded data removed]",
      "text/plain": [
       "<Figure size 432x288 with 1 Axes>"
      ]
     },
     "metadata": {
      "needs_background": "light"
     },
     "output_type": "display_data"
    }
   ],
   "source": [
    "def prior(x,mu,sigma): #function help to calculate the prior for given values\n",
    "    numerator = np.exp((-(x-mu)*2)/(2*sigma**2))\n",
    "    denominator = sigma * np.sqrt(2*np.pi)\n",
    "    return numerator/denominator\n",
    "\n",
    "def randomval(p): \n",
    "    unif = np.random.uniform(0,1) #generating random no. between 0 and 1\n",
    "    if unif>=p:\n",
    "        return False\n",
    "    else:\n",
    "        return True\n",
    "    \n",
    "def mcmc(itera,mu,sigma):\n",
    "    states = [] #list to store sample values\n",
    "    mu2 = np.random.uniform(-5*sigma+mu,5*sigma+mu) #generate value using current values\n",
    "    for i in range(itera): \n",
    "        states.append(mu2) #storing sample values\n",
    "        mu1 = np.random.uniform(-5*sigma+mu,5*sigma+mu) #generating new sample value\n",
    "        curr_prior = prior(x=mu2,mu=mu,sigma=sigma) #finding prior for current values\n",
    "        new_prior = prior(x=mu1,mu=mu,sigma=sigma) #finding prior for new values\n",
    "        rho=np.exp((mu2-mu1)*(50*(mu1+mu2)-2*sum(data))/(2*data.std()**2)) #likelihood ratios for current and new sample values\n",
    "        acceptance = min(new_prior/curr_prior*rho,1) #checing condition\n",
    "        if randomval(acceptance): \n",
    "            mu2 = mu1 #updating value if condition satisfied\n",
    "    return states\n",
    "\n",
    "dist = mcmc(10000,mu=0,sigma=5)\n",
    "\n",
    "#for analytical posterior \n",
    "sd=post_std \n",
    "mean=post_mean\n",
    "x = np.linspace(mean-3*sd-5, mean+3*sd+5, 100)\n",
    "a = ((x - mean) ** 2) / (2 * (sd ** 2))\n",
    "y = 1 / (sd * np.sqrt(2 * np.pi)) * np.exp(-a)\n",
    "pyplot.plot(x, y)#ploting pdf of analytical posterior \n",
    "#ploting histogram for generated samples from mcmc\n",
    "pyplot.hist(dist,density=True) \n",
    "pyplot.legend([\"Analytical Posterior\",\"Estimated Posterior\"])\n",
    "\n",
    "#used standard deviation 5 and mean =0"
   ]
  },
  {
   "cell_type": "markdown",
   "id": "34636c42",
   "metadata": {},
   "source": [
    "#### c)"
   ]
  },
  {
   "cell_type": "code",
   "execution_count": 407,
   "id": "ef4f41e4",
   "metadata": {},
   "outputs": [
    {
     "name": "stderr",
     "output_type": "stream",
     "text": [
      "<ipython-input-406-6c037a8d7660>:21: RuntimeWarning: overflow encountered in exp\n",
      "  rho=np.exp((mu2-mu1)*(50*(mu1+mu2)-2*sum(data))/(2*data.std()**2)) #likelihood ratios for current and new sample values\n"
     ]
    },
    {
     "data": {
      "image/png": "[encoded data removed]",
      "text/plain": [
       "<Figure size 720x1440 with 6 Axes>"
      ]
     },
     "metadata": {
      "needs_background": "light"
     },
     "output_type": "display_data"
    }
   ],
   "source": [
    "#ploting graph for different values of sigma\n",
    "i =1\n",
    "pyplot.figure(figsize=(10, 20))\n",
    "p=1\n",
    "while(i<=24):\n",
    "    pyplot.subplot(5, 2, p)\n",
    "    dist = mcmc(1000,mu=0,sigma=i)\n",
    "    #for analytical posterior \n",
    "    sd=post_std \n",
    "    mean=post_mean\n",
    "    x = np.linspace(mean-3*sd-5, mean+3*sd+5, 100)\n",
    "    a = ((x - mean) ** 2) / (2 * (sd ** 2))\n",
    "    y = 1 / (sd * np.sqrt(2 * np.pi)) * np.exp(-a)\n",
    "    pyplot.plot(x, y)#ploting pdf of analytical posterior \n",
    "    #ploting histogram for generated samples from mcmc\n",
    "    pyplot.hist(dist,density=True) \n",
    "    pyplot.title(\"sigma ={}\".format(str(i)))\n",
    "    i+=4\n",
    "    p+=1\n"
   ]
  },
  {
   "cell_type": "markdown",
   "id": "f2bbce05",
   "metadata": {},
   "source": [
    "In above graph plotted for different values of standard deviation(for 1,5,9,13,17,21,24)\n",
    "Estimated and analytical posterior have much different behavior if we used suboptimal standard deviation\n",
    "and hence speed of convergence is not good for suboptimal values (i.e for 1,13.. etc)\n",
    "From above we can say for standard deviation 5 it converge much faster with analytical posterior than other values ."
   ]
  }
 ],
 "metadata": {
  "kernelspec": {
   "display_name": "Python 3",
   "language": "python",
   "name": "python3"
  },
  "language_info": {
   "codemirror_mode": {
    "name": "ipython",
    "version": 3
   },
   "file_extension": ".py",
   "mimetype": "text/x-python",
   "name": "python",
   "nbconvert_exporter": "python",
   "pygments_lexer": "ipython3",
   "version": "3.8.8"
  }
 },
 "nbformat": 4,
 "nbformat_minor": 5
}
